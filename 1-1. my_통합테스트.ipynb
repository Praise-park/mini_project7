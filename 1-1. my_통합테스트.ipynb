{
 "cells": [
  {
   "cell_type": "markdown",
   "metadata": {
    "id": "4p06IPOk5xil"
   },
   "source": [
    "# **1-1. 통합 테스트**"
   ]
  },
  {
   "cell_type": "markdown",
   "metadata": {
    "id": "76Pw6f64d5VU"
   },
   "source": [
    "## **1.환경설정**"
   ]
  },
  {
   "cell_type": "markdown",
   "metadata": {
    "id": "1is0ZmzXeBrA"
   },
   "source": [
    "### (1) 경로 설정\n",
    "\n",
    "로컬 경로 설정"
   ]
  },
  {
   "cell_type": "code",
   "execution_count": 13,
   "metadata": {
    "id": "JhVujnYp4TJe"
   },
   "outputs": [],
   "source": [
    "path = './'"
   ]
  },
  {
   "cell_type": "markdown",
   "metadata": {
    "id": "6aFiucu6evl_"
   },
   "source": [
    "### (2) 라이브러리"
   ]
  },
  {
   "cell_type": "code",
   "execution_count": 51,
   "metadata": {
    "id": "_bx5a2MBfAt2"
   },
   "outputs": [],
   "source": [
    "#필요한 라이브러리 설치 및 불러우기\n",
    "import os\n",
    "import requests\n",
    "import xml.etree.ElementTree as ET\n",
    "import pandas as pd\n",
    "import openai\n",
    "from openai import OpenAI\n",
    "import json\n",
    "import torch\n",
    "import sys\n",
    "sys.path.append(path)\n",
    "\n",
    "from transformers import AutoTokenizer, AutoModelForSequenceClassification\n",
    "\n",
    "\n",
    "# 더 필요한 라이브러리 추가 -------------\n",
    "import my_emergency as em # 강사가 만든 모듈. 나중에 내가 만든 모듈 불러서 해야한다."
   ]
  },
  {
   "cell_type": "markdown",
   "metadata": {
    "id": "l-qzK-Egog5E"
   },
   "source": [
    "## **2. 단위 테스트**\n",
    "\n",
    "* 세부사항 : 아래 단계별로 데이터가 순차적으로 처리되도록 단위 테스트를 진행합니다."
   ]
  },
  {
   "cell_type": "markdown",
   "metadata": {
    "id": "Y2h3kvuJekAJ"
   },
   "source": [
    "### (1) open ai key 등록"
   ]
  },
  {
   "cell_type": "code",
   "execution_count": 52,
   "metadata": {},
   "outputs": [],
   "source": [
    "em.load_key(path)"
   ]
  },
  {
   "cell_type": "markdown",
   "metadata": {
    "id": "jn3tn-GuK0My"
   },
   "source": [
    "### (2) audio to text"
   ]
  },
  {
   "cell_type": "code",
   "execution_count": 53,
   "metadata": {
    "id": "2jcNEwGveebo"
   },
   "outputs": [
    {
     "data": {
      "text/html": [
       "<div>\n",
       "<style scoped>\n",
       "    .dataframe tbody tr th:only-of-type {\n",
       "        vertical-align: middle;\n",
       "    }\n",
       "\n",
       "    .dataframe tbody tr th {\n",
       "        vertical-align: top;\n",
       "    }\n",
       "\n",
       "    .dataframe thead th {\n",
       "        text-align: right;\n",
       "    }\n",
       "</style>\n",
       "<table border=\"1\" class=\"dataframe\">\n",
       "  <thead>\n",
       "    <tr style=\"text-align: right;\">\n",
       "      <th></th>\n",
       "      <th>Audio</th>\n",
       "      <th>Transcribed</th>\n",
       "    </tr>\n",
       "  </thead>\n",
       "  <tbody>\n",
       "    <tr>\n",
       "      <th>0</th>\n",
       "      <td>audio1.mp3</td>\n",
       "      <td>지금 아빠가 넘어졌어요. 머리에서 피가 나는데 숨은 쉬고 있어요. 지금 막 일어났어...</td>\n",
       "    </tr>\n",
       "    <tr>\n",
       "      <th>1</th>\n",
       "      <td>audio2.mp3</td>\n",
       "      <td>119죠. 제가 지금 열이 열이 올랐어요. 몇 도냐면은 38도 정도 돼요. 머리가 ...</td>\n",
       "    </tr>\n",
       "    <tr>\n",
       "      <th>2</th>\n",
       "      <td>audio3.mp3</td>\n",
       "      <td>동생이 콩 가지고 놀다가 코에 들어가서 한쪽 코가 막혔어요. 아무리 빼보려 해도 안...</td>\n",
       "    </tr>\n",
       "    <tr>\n",
       "      <th>3</th>\n",
       "      <td>audio4.mp3</td>\n",
       "      <td>아까 가다가 머리를 박았는데, 처음에는 괜찮다가, 지금 3시간 정도 지났는데, 머리...</td>\n",
       "    </tr>\n",
       "    <tr>\n",
       "      <th>4</th>\n",
       "      <td>audio5.mp3</td>\n",
       "      <td>화장실에서 미끄러워서 엉덩방아를 찍었어요. 그러고 꼬리뼈가 계속 아파요. 점점 아픈...</td>\n",
       "    </tr>\n",
       "  </tbody>\n",
       "</table>\n",
       "</div>"
      ],
      "text/plain": [
       "        Audio                                        Transcribed\n",
       "0  audio1.mp3  지금 아빠가 넘어졌어요. 머리에서 피가 나는데 숨은 쉬고 있어요. 지금 막 일어났어...\n",
       "1  audio2.mp3  119죠. 제가 지금 열이 열이 올랐어요. 몇 도냐면은 38도 정도 돼요. 머리가 ...\n",
       "2  audio3.mp3  동생이 콩 가지고 놀다가 코에 들어가서 한쪽 코가 막혔어요. 아무리 빼보려 해도 안...\n",
       "3  audio4.mp3  아까 가다가 머리를 박았는데, 처음에는 괜찮다가, 지금 3시간 정도 지났는데, 머리...\n",
       "4  audio5.mp3  화장실에서 미끄러워서 엉덩방아를 찍었어요. 그러고 꼬리뼈가 계속 아파요. 점점 아픈..."
      ]
     },
     "execution_count": 53,
     "metadata": {},
     "output_type": "execute_result"
    }
   ],
   "source": [
    "audio_path = path + 'audio/'\n",
    "result = em.audio2text(audio_path)\n",
    "result"
   ]
  },
  {
   "cell_type": "markdown",
   "metadata": {
    "id": "DnyVoEvqe81v"
   },
   "source": [
    "### (3) text summary"
   ]
  },
  {
   "cell_type": "code",
   "execution_count": 54,
   "metadata": {
    "id": "2vVlh-oXe81v"
   },
   "outputs": [
    {
     "data": {
      "text/html": [
       "<div>\n",
       "<style scoped>\n",
       "    .dataframe tbody tr th:only-of-type {\n",
       "        vertical-align: middle;\n",
       "    }\n",
       "\n",
       "    .dataframe tbody tr th {\n",
       "        vertical-align: top;\n",
       "    }\n",
       "\n",
       "    .dataframe thead th {\n",
       "        text-align: right;\n",
       "    }\n",
       "</style>\n",
       "<table border=\"1\" class=\"dataframe\">\n",
       "  <thead>\n",
       "    <tr style=\"text-align: right;\">\n",
       "      <th></th>\n",
       "      <th>Audio</th>\n",
       "      <th>Transcribed</th>\n",
       "      <th>summary</th>\n",
       "    </tr>\n",
       "  </thead>\n",
       "  <tbody>\n",
       "    <tr>\n",
       "      <th>0</th>\n",
       "      <td>audio1.mp3</td>\n",
       "      <td>지금 아빠가 넘어졌어요. 머리에서 피가 나는데 숨은 쉬고 있어요. 지금 막 일어났어...</td>\n",
       "      <td>{\"summary\": \"머리에서 출혈 후 어지러움이 있음\", \"부위\": \"머리\", ...</td>\n",
       "    </tr>\n",
       "    <tr>\n",
       "      <th>1</th>\n",
       "      <td>audio2.mp3</td>\n",
       "      <td>119죠. 제가 지금 열이 열이 올랐어요. 몇 도냐면은 38도 정도 돼요. 머리가 ...</td>\n",
       "      <td>{\"summary\": \"38도 열이 나면서 머리가 아프고 띵한 증상이 있음\", \"부...</td>\n",
       "    </tr>\n",
       "    <tr>\n",
       "      <th>2</th>\n",
       "      <td>audio3.mp3</td>\n",
       "      <td>동생이 콩 가지고 놀다가 코에 들어가서 한쪽 코가 막혔어요. 아무리 빼보려 해도 안...</td>\n",
       "      <td>{\"summary\": \"코에 콩이 들어가 막혀있음\", \"부위\": \"코\", \"증상\":...</td>\n",
       "    </tr>\n",
       "    <tr>\n",
       "      <th>3</th>\n",
       "      <td>audio4.mp3</td>\n",
       "      <td>아까 가다가 머리를 박았는데, 처음에는 괜찮다가, 지금 3시간 정도 지났는데, 머리...</td>\n",
       "      <td>{\"summary\": \"머리를 박았는데 3시간 후에 머리가 어지럽고 속이 메스꺼움\"...</td>\n",
       "    </tr>\n",
       "    <tr>\n",
       "      <th>4</th>\n",
       "      <td>audio5.mp3</td>\n",
       "      <td>화장실에서 미끄러워서 엉덩방아를 찍었어요. 그러고 꼬리뼈가 계속 아파요. 점점 아픈...</td>\n",
       "      <td>{\"summary\": \"미끄러져 엉덩방아를 찍고 꼬리뼈가 계속 아프다\", \"부위\":...</td>\n",
       "    </tr>\n",
       "  </tbody>\n",
       "</table>\n",
       "</div>"
      ],
      "text/plain": [
       "        Audio                                        Transcribed  \\\n",
       "0  audio1.mp3  지금 아빠가 넘어졌어요. 머리에서 피가 나는데 숨은 쉬고 있어요. 지금 막 일어났어...   \n",
       "1  audio2.mp3  119죠. 제가 지금 열이 열이 올랐어요. 몇 도냐면은 38도 정도 돼요. 머리가 ...   \n",
       "2  audio3.mp3  동생이 콩 가지고 놀다가 코에 들어가서 한쪽 코가 막혔어요. 아무리 빼보려 해도 안...   \n",
       "3  audio4.mp3  아까 가다가 머리를 박았는데, 처음에는 괜찮다가, 지금 3시간 정도 지났는데, 머리...   \n",
       "4  audio5.mp3  화장실에서 미끄러워서 엉덩방아를 찍었어요. 그러고 꼬리뼈가 계속 아파요. 점점 아픈...   \n",
       "\n",
       "                                             summary  \n",
       "0  {\"summary\": \"머리에서 출혈 후 어지러움이 있음\", \"부위\": \"머리\", ...  \n",
       "1  {\"summary\": \"38도 열이 나면서 머리가 아프고 띵한 증상이 있음\", \"부...  \n",
       "2  {\"summary\": \"코에 콩이 들어가 막혀있음\", \"부위\": \"코\", \"증상\":...  \n",
       "3  {\"summary\": \"머리를 박았는데 3시간 후에 머리가 어지럽고 속이 메스꺼움\"...  \n",
       "4  {\"summary\": \"미끄러져 엉덩방아를 찍고 꼬리뼈가 계속 아프다\", \"부위\":...  "
      ]
     },
     "execution_count": 54,
     "metadata": {},
     "output_type": "execute_result"
    }
   ],
   "source": [
    "result = em.text2summary(path, result)\n",
    "result"
   ]
  },
  {
   "cell_type": "markdown",
   "metadata": {
    "id": "Q1WvCVInfMQw"
   },
   "source": [
    "### (4) 응급실 등급분류"
   ]
  },
  {
   "cell_type": "code",
   "execution_count": 55,
   "metadata": {
    "id": "e-maRgSLUh86"
   },
   "outputs": [
    {
     "name": "stdout",
     "output_type": "stream",
     "text": [
      "예측된 클래스: 2\n",
      "예측된 클래스 이름: 3등급\n",
      "클래스별 확률: tensor([[0.0146, 0.1916, 0.5491, 0.1864, 0.0584]])\n"
     ]
    }
   ],
   "source": [
    "predicted_class, probabilities = em.model_prediction(path,result)\n",
    "\n",
    "print(f\"예측된 클래스: {predicted_class}\")\n",
    "print(f\"예측된 클래스 이름: {predicted_class+1}등급\")\n",
    "print(f\"클래스별 확률: {probabilities}\")"
   ]
  },
  {
   "cell_type": "markdown",
   "metadata": {
    "id": "lL0Np_CFrA5g"
   },
   "source": [
    "### (5) 응급실추천"
   ]
  },
  {
   "cell_type": "code",
   "execution_count": 56,
   "metadata": {},
   "outputs": [
    {
     "name": "stdout",
     "output_type": "stream",
     "text": [
      "탐색범위:11.0km * 11.0km\n",
      "(2.626, '분당서울대학교병원', '031-787-2114', '031-787-3119')\n",
      "(4.789, '대진의료재단분당제생병원', '031-779-0114', '031-779-0119')\n",
      "(5.973, '국군수도병원', '031-725-6075', '031-725-6119')\n"
     ]
    }
   ],
   "source": [
    "df = pd.read_excel(path+'/audio_location.xlsx')\n",
    "# em.get_dist(path, df)\n",
    "em.recom_em(path, df)"
   ]
  },
  {
   "cell_type": "markdown",
   "metadata": {
    "id": "D73P_NjZq585"
   },
   "source": [
    "## **3. 통합 테스트**\n",
    "\n",
    "* 세부사항\n",
    "    * [2. 단위 테스트] 의 내용을 순차적으로 실행하며 결과를 확인합니다."
   ]
  },
  {
   "cell_type": "code",
   "execution_count": 57,
   "metadata": {
    "id": "pb3oRhKDfHpc"
   },
   "outputs": [
    {
     "name": "stdout",
     "output_type": "stream",
     "text": [
      "예측된 클래스: 1\n",
      "예측된 클래스 이름: 2등급\n",
      "클래스별 확률: tensor([[0.0249, 0.4331, 0.4059, 0.0898, 0.0463]])\n",
      "탐색범위:11.0km * 11.0km\n",
      "(2.626, '분당서울대학교병원', '031-787-2114', '031-787-3119')\n",
      "(4.789, '대진의료재단분당제생병원', '031-779-0114', '031-779-0119')\n",
      "(5.973, '국군수도병원', '031-725-6075', '031-725-6119')\n"
     ]
    }
   ],
   "source": [
    "# 1. 준비 작업 ---------------------------------------------\n",
    "em.load_key(path)\n",
    "result = em.audio2text(path + 'audio/')\n",
    "result = em.text2summary(path, result)\n",
    "predicted_class, probabilities = em.model_prediction(path,result)\n",
    "\n",
    "print(f\"예측된 클래스: {predicted_class}\")\n",
    "print(f\"예측된 클래스 이름: {predicted_class+1}등급\")\n",
    "print(f\"클래스별 확률: {probabilities}\")\n",
    "\n",
    "if predicted_class <= 2 :\n",
    "    df = pd.read_excel(path+'/audio_location.xlsx')\n",
    "    em.recom_em(path, df)\n",
    "else :\n",
    "    print('개인 건강관리')\n",
    "\n",
    "# # 테스트 input --------------------\n",
    "# predicted_class = 2  # 테스트용\n",
    "# start_lat, start_lng = 35.548238, 129.307011\n",
    "# # ---------------------------------\n",
    "\n",
    "# if predicted_class <= 2 :\n",
    "#     result = em.recommend_hospital3(path, emergency, start_lat, start_lng, c_id, c_key)\n",
    "#     display(result)\n",
    "# else :\n",
    "#     print('개인 건강관리')"
   ]
  },
  {
   "cell_type": "code",
   "execution_count": null,
   "metadata": {
    "id": "5bO80WuryK3t"
   },
   "outputs": [],
   "source": []
  }
 ],
 "metadata": {
  "colab": {
   "provenance": [],
   "toc_visible": true
  },
  "kernelspec": {
   "display_name": "em",
   "language": "python",
   "name": "python3"
  },
  "language_info": {
   "codemirror_mode": {
    "name": "ipython",
    "version": 3
   },
   "file_extension": ".py",
   "mimetype": "text/x-python",
   "name": "python",
   "nbconvert_exporter": "python",
   "pygments_lexer": "ipython3",
   "version": "3.12.8"
  }
 },
 "nbformat": 4,
 "nbformat_minor": 0
}
